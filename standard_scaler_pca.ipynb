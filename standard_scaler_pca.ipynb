{
  "cells": [
    {
      "cell_type": "markdown",
      "metadata": {
        "id": "view-in-github",
        "colab_type": "text"
      },
      "source": [
        "<a href=\"https://colab.research.google.com/github/Udayan701/Password_Generator/blob/main/standard_scaler_pca.ipynb\" target=\"_parent\"><img src=\"https://colab.research.google.com/assets/colab-badge.svg\" alt=\"Open In Colab\"/></a>"
      ]
    },
    {
      "cell_type": "code",
      "execution_count": 1,
      "id": "efe2bd8c",
      "metadata": {
        "id": "efe2bd8c"
      },
      "outputs": [],
      "source": [
        "import numpy as np \n",
        "import pandas as pd\n",
        "from sklearn.datasets import load_wine"
      ]
    },
    {
      "cell_type": "code",
      "execution_count": 2,
      "id": "128f5de0",
      "metadata": {
        "colab": {
          "base_uri": "https://localhost:8080/"
        },
        "id": "128f5de0",
        "outputId": "62e054c1-b635-4784-8312-0fd7b53aeeff"
      },
      "outputs": [
        {
          "output_type": "execute_result",
          "data": {
            "text/plain": [
              "sklearn.utils.Bunch"
            ]
          },
          "metadata": {},
          "execution_count": 2
        }
      ],
      "source": [
        "type(load_wine())"
      ]
    },
    {
      "cell_type": "code",
      "execution_count": 3,
      "id": "bb2d898e",
      "metadata": {
        "id": "bb2d898e"
      },
      "outputs": [],
      "source": [
        "df = load_wine()\n",
        "x = df.data\n",
        "# df = pd.DataFrame(data=df['data'],columns=df.feature_names)\n"
      ]
    },
    {
      "cell_type": "code",
      "execution_count": 4,
      "id": "45b340b6",
      "metadata": {
        "colab": {
          "base_uri": "https://localhost:8080/"
        },
        "id": "45b340b6",
        "outputId": "8233b8b1-ca4a-4ac2-8c4e-9ab700d2c4d1"
      },
      "outputs": [
        {
          "output_type": "execute_result",
          "data": {
            "text/plain": [
              "array([0, 0, 0, 0, 0, 0, 0, 0, 0, 0, 0, 0, 0, 0, 0, 0, 0, 0, 0, 0, 0, 0,\n",
              "       0, 0, 0, 0, 0, 0, 0, 0, 0, 0, 0, 0, 0, 0, 0, 0, 0, 0, 0, 0, 0, 0,\n",
              "       0, 0, 0, 0, 0, 0, 0, 0, 0, 0, 0, 0, 0, 0, 0, 1, 1, 1, 1, 1, 1, 1,\n",
              "       1, 1, 1, 1, 1, 1, 1, 1, 1, 1, 1, 1, 1, 1, 1, 1, 1, 1, 1, 1, 1, 1,\n",
              "       1, 1, 1, 1, 1, 1, 1, 1, 1, 1, 1, 1, 1, 1, 1, 1, 1, 1, 1, 1, 1, 1,\n",
              "       1, 1, 1, 1, 1, 1, 1, 1, 1, 1, 1, 1, 1, 1, 1, 1, 1, 1, 1, 1, 2, 2,\n",
              "       2, 2, 2, 2, 2, 2, 2, 2, 2, 2, 2, 2, 2, 2, 2, 2, 2, 2, 2, 2, 2, 2,\n",
              "       2, 2, 2, 2, 2, 2, 2, 2, 2, 2, 2, 2, 2, 2, 2, 2, 2, 2, 2, 2, 2, 2,\n",
              "       2, 2])"
            ]
          },
          "metadata": {},
          "execution_count": 4
        }
      ],
      "source": [
        "\n",
        "y = df.target\n",
        "y"
      ]
    },
    {
      "cell_type": "code",
      "execution_count": 5,
      "id": "2d988d76",
      "metadata": {
        "id": "2d988d76"
      },
      "outputs": [],
      "source": [
        "from sklearn.preprocessing import StandardScaler\n",
        "from sklearn.model_selection import train_test_split\n",
        "import numpy as np \n",
        "train_x,test_x,train_y,test_y = train_test_split(x,y,test_size=0.2) \n",
        "sc = StandardScaler()\n",
        "train_x_sc = sc.fit_transform(train_x)\n",
        "test_x_sc = sc.fit_transform(test_x)\n",
        "sc_data = sc.fit(train_x_sc,train_y)\n",
        "# sc_data= model.transform(df)\n",
        "\n"
      ]
    },
    {
      "cell_type": "code",
      "execution_count": null,
      "id": "abe9a037",
      "metadata": {
        "id": "abe9a037"
      },
      "outputs": [],
      "source": [
        "#import matplotlib.pyplot as plt"
      ]
    },
    {
      "cell_type": "code",
      "execution_count": null,
      "id": "b5e8bb25",
      "metadata": {
        "id": "b5e8bb25"
      },
      "outputs": [],
      "source": [
        "#plt.plot(train_x_sc,train_y)\n",
        "#plt.show()"
      ]
    },
    {
      "cell_type": "code",
      "execution_count": 6,
      "id": "097befa7",
      "metadata": {
        "id": "097befa7"
      },
      "outputs": [],
      "source": [
        "from sklearn.decomposition import PCA\n",
        "pca =PCA(n_components=13)\n",
        "train_x_sc_pca = pca.fit_transform(train_x_sc)\n",
        "test_x_sc_pca = pca.fit_transform(test_x_sc)"
      ]
    },
    {
      "cell_type": "code",
      "execution_count": 7,
      "id": "06841554",
      "metadata": {
        "colab": {
          "base_uri": "https://localhost:8080/"
        },
        "id": "06841554",
        "outputId": "ba2a3e26-bbfc-455a-c0b0-16535fb0fed2"
      },
      "outputs": [
        {
          "output_type": "execute_result",
          "data": {
            "text/plain": [
              "(142, 13)"
            ]
          },
          "metadata": {},
          "execution_count": 7
        }
      ],
      "source": [
        "train_x_sc_pca.shape"
      ]
    },
    {
      "cell_type": "code",
      "execution_count": 8,
      "id": "05f7888a",
      "metadata": {
        "colab": {
          "base_uri": "https://localhost:8080/"
        },
        "id": "05f7888a",
        "outputId": "4e3a1e36-31a8-4ed0-d5e7-f3bebb9b54f1"
      },
      "outputs": [
        {
          "output_type": "execute_result",
          "data": {
            "text/plain": [
              "(36, 13)"
            ]
          },
          "metadata": {},
          "execution_count": 8
        }
      ],
      "source": [
        "test_x_sc_pca.shape"
      ]
    },
    {
      "cell_type": "code",
      "execution_count": 9,
      "id": "20af3dd3",
      "metadata": {
        "id": "20af3dd3"
      },
      "outputs": [],
      "source": [
        "from sklearn.linear_model import LogisticRegression\n",
        "lr = LogisticRegression()\n",
        "lr.fit(train_x_sc_pca,train_y)\n",
        "train_x_sc_pca_lr = lr.predict(train_x_sc_pca)\n",
        "test_x_sc_pca_lr = lr.predict(test_x_sc_pca)"
      ]
    },
    {
      "cell_type": "code",
      "execution_count": 10,
      "id": "8710af91",
      "metadata": {
        "scrolled": true,
        "colab": {
          "base_uri": "https://localhost:8080/"
        },
        "id": "8710af91",
        "outputId": "16417ed1-d9e1-4880-ad79-9d57b11da579"
      },
      "outputs": [
        {
          "output_type": "stream",
          "name": "stdout",
          "text": [
            "train accuracy is :- 1.0\n",
            "test accuracy is :- 0.05555555555555555\n"
          ]
        }
      ],
      "source": [
        "from sklearn.metrics import accuracy_score\n",
        "print(\"train accuracy is :-\", accuracy_score(train_x_sc_pca_lr, train_y))\n",
        "print(\"test accuracy is :-\", accuracy_score(test_x_sc_pca_lr, test_y))"
      ]
    }
  ],
  "metadata": {
    "kernelspec": {
      "display_name": "Python 3",
      "language": "python",
      "name": "python3"
    },
    "language_info": {
      "codemirror_mode": {
        "name": "ipython",
        "version": 3
      },
      "file_extension": ".py",
      "mimetype": "text/x-python",
      "name": "python",
      "nbconvert_exporter": "python",
      "pygments_lexer": "ipython3",
      "version": "3.8.8"
    },
    "colab": {
      "provenance": [],
      "include_colab_link": true
    }
  },
  "nbformat": 4,
  "nbformat_minor": 5
}