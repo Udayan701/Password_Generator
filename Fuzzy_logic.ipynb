{
  "cells": [
    {
      "cell_type": "markdown",
      "metadata": {
        "id": "view-in-github",
        "colab_type": "text"
      },
      "source": [
        "<a href=\"https://colab.research.google.com/github/Udayan701/Password_Generator/blob/main/Fuzzy_logic.ipynb\" target=\"_parent\"><img src=\"https://colab.research.google.com/assets/colab-badge.svg\" alt=\"Open In Colab\"/></a>"
      ]
    },
    {
      "cell_type": "code",
      "execution_count": null,
      "id": "53dad23e",
      "metadata": {
        "id": "53dad23e"
      },
      "outputs": [],
      "source": [
        "#fuzzy is module and not a function\n",
        "# 1. Antecedent\n",
        "# 2. consequent\n",
        "# 3. Membership Function"
      ]
    },
    {
      "cell_type": "code",
      "source": [
        "pip install scikit-fuzzy"
      ],
      "metadata": {
        "colab": {
          "base_uri": "https://localhost:8080/"
        },
        "id": "Asys6Aa1vfR1",
        "outputId": "4d3c70c3-7d92-46d4-886d-742ba5757211"
      },
      "id": "Asys6Aa1vfR1",
      "execution_count": 2,
      "outputs": [
        {
          "output_type": "stream",
          "name": "stdout",
          "text": [
            "Looking in indexes: https://pypi.org/simple, https://us-python.pkg.dev/colab-wheels/public/simple/\n",
            "Collecting scikit-fuzzy\n",
            "  Downloading scikit-fuzzy-0.4.2.tar.gz (993 kB)\n",
            "\u001b[K     |████████████████████████████████| 993 kB 8.0 MB/s \n",
            "\u001b[?25hRequirement already satisfied: numpy>=1.6.0 in /usr/local/lib/python3.7/dist-packages (from scikit-fuzzy) (1.21.6)\n",
            "Requirement already satisfied: scipy>=0.9.0 in /usr/local/lib/python3.7/dist-packages (from scikit-fuzzy) (1.7.3)\n",
            "Requirement already satisfied: networkx>=1.9.0 in /usr/local/lib/python3.7/dist-packages (from scikit-fuzzy) (2.6.3)\n",
            "Building wheels for collected packages: scikit-fuzzy\n",
            "  Building wheel for scikit-fuzzy (setup.py) ... \u001b[?25l\u001b[?25hdone\n",
            "  Created wheel for scikit-fuzzy: filename=scikit_fuzzy-0.4.2-py3-none-any.whl size=894089 sha256=3eb96bb51f2d67c685685ca0f6dcf593ef9ae9612b66303fe010078de66eb6c0\n",
            "  Stored in directory: /root/.cache/pip/wheels/d5/74/fc/38588a3d2e3f34f74588e6daa3aa5b0a322bd6f9420a707131\n",
            "Successfully built scikit-fuzzy\n",
            "Installing collected packages: scikit-fuzzy\n",
            "Successfully installed scikit-fuzzy-0.4.2\n"
          ]
        }
      ]
    },
    {
      "cell_type": "code",
      "execution_count": 3,
      "id": "cde21f42",
      "metadata": {
        "id": "cde21f42"
      },
      "outputs": [],
      "source": [
        "import numpy as np\n",
        "import skfuzzy as fuzzy\n",
        "from skfuzzy import control as ctrl\n",
        "import matplotlib.pyplot as plt"
      ]
    },
    {
      "cell_type": "code",
      "execution_count": 3,
      "id": "c5aaaa22",
      "metadata": {
        "id": "c5aaaa22"
      },
      "outputs": [],
      "source": []
    },
    {
      "cell_type": "code",
      "execution_count": 4,
      "id": "70084bca",
      "metadata": {
        "id": "70084bca"
      },
      "outputs": [],
      "source": [
        "mte = ctrl.Antecedent(np.arange(1,41,1),'mte')"
      ]
    },
    {
      "cell_type": "code",
      "execution_count": 5,
      "id": "cf64ec3a",
      "metadata": {
        "id": "cf64ec3a"
      },
      "outputs": [],
      "source": [
        "mte['poor'] = fuzzy.trimf(mte.universe,[1,7.5,15])"
      ]
    },
    {
      "cell_type": "code",
      "execution_count": 6,
      "id": "2c8072a1",
      "metadata": {
        "id": "2c8072a1"
      },
      "outputs": [],
      "source": [
        "mte['Avarage'] = fuzzy.trapmf(mte.universe,[16,20,25,30])"
      ]
    },
    {
      "cell_type": "code",
      "execution_count": 7,
      "id": "d1109248",
      "metadata": {
        "id": "d1109248"
      },
      "outputs": [],
      "source": [
        "mte['Good'] = fuzzy.trimf(mte.universe,[31,35,41])"
      ]
    },
    {
      "cell_type": "code",
      "execution_count": 8,
      "id": "fa95b6ad",
      "metadata": {
        "id": "fa95b6ad"
      },
      "outputs": [],
      "source": [
        "ete = ctrl.Antecedent(np.arange(1,71,1),'ete')"
      ]
    },
    {
      "cell_type": "code",
      "execution_count": 9,
      "id": "b4ff3694",
      "metadata": {
        "id": "b4ff3694"
      },
      "outputs": [],
      "source": [
        "ete['poor'] = fuzzy.trimf(ete.universe,[1,15,25])"
      ]
    },
    {
      "cell_type": "code",
      "execution_count": 10,
      "id": "dbc58ef3",
      "metadata": {
        "id": "dbc58ef3"
      },
      "outputs": [],
      "source": [
        "ete['Average'] = fuzzy.trimf(ete.universe,[26,35,40])"
      ]
    },
    {
      "cell_type": "code",
      "execution_count": 11,
      "id": "0948ee68",
      "metadata": {
        "id": "0948ee68"
      },
      "outputs": [],
      "source": [
        "ete['Good'] = fuzzy.trimf(ete.universe,[41,60,70])"
      ]
    },
    {
      "cell_type": "code",
      "execution_count": 12,
      "id": "193d2b4c",
      "metadata": {
        "id": "193d2b4c"
      },
      "outputs": [],
      "source": [
        "ca = ctrl.Antecedent(np.arange(1,31,1),'ca')"
      ]
    },
    {
      "cell_type": "code",
      "execution_count": 13,
      "id": "b2d9f1bf",
      "metadata": {
        "id": "b2d9f1bf"
      },
      "outputs": [],
      "source": [
        "ca['poor'] = fuzzy.trimf(ca.universe,[1,7.5,12])"
      ]
    },
    {
      "cell_type": "code",
      "execution_count": 14,
      "id": "e14604e2",
      "metadata": {
        "id": "e14604e2"
      },
      "outputs": [],
      "source": [
        "ca['Average'] = fuzzy.trimf(ca.universe,[13,18,21])"
      ]
    },
    {
      "cell_type": "code",
      "execution_count": 15,
      "id": "38793ba5",
      "metadata": {
        "id": "38793ba5"
      },
      "outputs": [],
      "source": [
        "ca['Good'] = fuzzy.trimf(ca.universe,[22,25,30])"
      ]
    },
    {
      "cell_type": "code",
      "execution_count": 16,
      "id": "1605e885",
      "metadata": {
        "id": "1605e885"
      },
      "outputs": [],
      "source": [
        "cgpa = ctrl.Consequent(np.arange(1,11,1), 'cgpa')"
      ]
    },
    {
      "cell_type": "code",
      "execution_count": 17,
      "id": "dc177f46",
      "metadata": {
        "id": "dc177f46"
      },
      "outputs": [],
      "source": [
        "cgpa.automf(3)"
      ]
    },
    {
      "cell_type": "code",
      "execution_count": 18,
      "id": "7bd35206",
      "metadata": {
        "id": "7bd35206"
      },
      "outputs": [],
      "source": [
        "rule1 = ctrl.Rule(ca['Average'] & mte['poor'] & ete['Good'], cgpa['good'])"
      ]
    },
    {
      "cell_type": "code",
      "execution_count": 19,
      "id": "8940408f",
      "metadata": {
        "id": "8940408f"
      },
      "outputs": [],
      "source": [
        "tipping = ctrl.ControlSystem([rule1])"
      ]
    },
    {
      "cell_type": "code",
      "execution_count": 20,
      "id": "ac9e39b8",
      "metadata": {
        "id": "ac9e39b8"
      },
      "outputs": [],
      "source": [
        "Tip = ctrl.ControlSystemSimulation(tipping)"
      ]
    },
    {
      "cell_type": "code",
      "execution_count": 21,
      "id": "329f0efb",
      "metadata": {
        "id": "329f0efb"
      },
      "outputs": [],
      "source": [
        "Tip.input['ca'] = 16\n",
        "Tip.input['mte'] = 5\n",
        "Tip.input['ete'] = 61\n",
        "Tip.compute()"
      ]
    },
    {
      "cell_type": "code",
      "execution_count": 22,
      "id": "78553c6d",
      "metadata": {
        "colab": {
          "base_uri": "https://localhost:8080/"
        },
        "id": "78553c6d",
        "outputId": "20f22524-ca6b-4e4c-ea62-9a0512de4a48"
      },
      "outputs": [
        {
          "output_type": "stream",
          "name": "stdout",
          "text": [
            "8.287601390498262\n"
          ]
        }
      ],
      "source": [
        "print(Tip.output['cgpa'])"
      ]
    },
    {
      "cell_type": "code",
      "execution_count": null,
      "id": "bbb86784",
      "metadata": {
        "id": "bbb86784"
      },
      "outputs": [],
      "source": []
    }
  ],
  "metadata": {
    "kernelspec": {
      "display_name": "Python 3",
      "language": "python",
      "name": "python3"
    },
    "language_info": {
      "codemirror_mode": {
        "name": "ipython",
        "version": 3
      },
      "file_extension": ".py",
      "mimetype": "text/x-python",
      "name": "python",
      "nbconvert_exporter": "python",
      "pygments_lexer": "ipython3",
      "version": "3.8.8"
    },
    "colab": {
      "provenance": [],
      "include_colab_link": true
    }
  },
  "nbformat": 4,
  "nbformat_minor": 5
}