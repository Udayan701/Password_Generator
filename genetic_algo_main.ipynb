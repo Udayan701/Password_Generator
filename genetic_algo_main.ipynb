{
  "cells": [
    {
      "cell_type": "markdown",
      "metadata": {
        "id": "view-in-github",
        "colab_type": "text"
      },
      "source": [
        "<a href=\"https://colab.research.google.com/github/Udayan701/Password_Generator/blob/main/genetic_algo_main.ipynb\" target=\"_parent\"><img src=\"https://colab.research.google.com/assets/colab-badge.svg\" alt=\"Open In Colab\"/></a>"
      ]
    },
    {
      "cell_type": "code",
      "execution_count": 1,
      "id": "463ca103",
      "metadata": {
        "id": "463ca103"
      },
      "outputs": [],
      "source": [
        "from random import randint\n",
        "import random as rn"
      ]
    },
    {
      "cell_type": "code",
      "execution_count": 2,
      "id": "01070c5d",
      "metadata": {
        "id": "01070c5d"
      },
      "outputs": [],
      "source": [
        "class Sample:\n",
        "    def __init__(self,s,score):\n",
        "        self.s = s\n",
        "        self.score = score"
      ]
    },
    {
      "cell_type": "code",
      "execution_count": 3,
      "id": "994e5c87",
      "metadata": {
        "colab": {
          "base_uri": "https://localhost:8080/"
        },
        "id": "994e5c87",
        "outputId": "0578d4aa-bba2-4a9c-9608-d2ae030f5956"
      },
      "outputs": [
        {
          "output_type": "stream",
          "name": "stdout",
          "text": [
            "1\n",
            "2\n",
            "3\n",
            "4\n",
            "5\n",
            "6\n",
            "make 4\n"
          ]
        },
        {
          "output_type": "execute_result",
          "data": {
            "text/plain": [
              "<__main__.Sample at 0x7f4580e0b110>"
            ]
          },
          "metadata": {},
          "execution_count": 3
        }
      ],
      "source": [
        "class GeneticEvolution:\n",
        "    def __init__(self,s):\n",
        "        self.s = s\n",
        "        \n",
        "        self.population = []\n",
        "        self.mutation_rate = 0.2\n",
        "        for i in range(100):\n",
        "            sample = ''\n",
        "            for i in range(len(s)):\n",
        "                sample+= chr(int(randint(97,122)))\n",
        "            self.population.append(Sample(sample,self.fitness(sample)))\n",
        "    def fitness(self,sample):\n",
        "        score=0\n",
        "        for i,j in zip(list(sample),list(self.s)):\n",
        "            if i==j:\n",
        "                score+=1\n",
        "        return score\n",
        "    def selection(self):\n",
        "        new_population = []\n",
        "       \n",
        "        self.population.sort(key = lambda x: x.score,reverse=True)\n",
        "        new_population = self.population[:50]\n",
        "       \n",
        "        r_sample = rn.sample(self.population[50:],10)\n",
        "        for i in r_sample:\n",
        "            new_population.append(i)\n",
        "        self.population = new_population\n",
        "    def crossover(self):\n",
        "        for i in range(100-len(self.population)):\n",
        "            parents = rn.sample(self.population,2)\n",
        "            child = ''\n",
        "            for i,j in zip(list(parents[0].s),list(parents[1].s)):\n",
        "                if rn.random()<0.6:\n",
        "                    child+=i\n",
        "                else:\n",
        "                    child+=j\n",
        "            self.population.append(Sample(child,self.fitness(child)))\n",
        "           \n",
        "    def mutation(self):\n",
        "        new_population = []\n",
        "       \n",
        "        for sample in self.population:\n",
        "            mutated = ''\n",
        "            for i in sample.s:\n",
        "                if rn.random()<self.mutation_rate:\n",
        "                    mutated += chr(int(randint(97,122)))\n",
        "                else:\n",
        "                    mutated += i\n",
        "       \n",
        "            new_population.append(Sample(mutated,self.fitness(mutated)))\n",
        "        self.population = new_population\n",
        "   \n",
        "    def evolution(self):\n",
        "        generation = 0\n",
        "        while True:\n",
        "            generation+=1\n",
        "            print(generation)\n",
        "            self.selection()\n",
        "            #condition\n",
        "            if self.population[0].score==self.fitness(self.s):\n",
        "                print(self.population[0].s,self.population[0].score)\n",
        "                return self.population[0]\n",
        "            self.crossover()\n",
        "            self.mutation()\n",
        "            if generation>1000:\n",
        "                return None\n",
        "              \n",
        "   \n",
        "     \n",
        "     \n",
        "       \n",
        "g = GeneticEvolution('make')\n",
        "g.evolution()\n"
      ]
    },
    {
      "cell_type": "code",
      "execution_count": null,
      "id": "0eb10e20",
      "metadata": {
        "id": "0eb10e20"
      },
      "outputs": [],
      "source": []
    },
    {
      "cell_type": "code",
      "execution_count": null,
      "id": "0dc2fca5",
      "metadata": {
        "id": "0dc2fca5"
      },
      "outputs": [],
      "source": []
    }
  ],
  "metadata": {
    "kernelspec": {
      "display_name": "Python 3 (ipykernel)",
      "language": "python",
      "name": "python3"
    },
    "language_info": {
      "codemirror_mode": {
        "name": "ipython",
        "version": 3
      },
      "file_extension": ".py",
      "mimetype": "text/x-python",
      "name": "python",
      "nbconvert_exporter": "python",
      "pygments_lexer": "ipython3",
      "version": "3.9.12"
    },
    "colab": {
      "provenance": [],
      "include_colab_link": true
    }
  },
  "nbformat": 4,
  "nbformat_minor": 5
}